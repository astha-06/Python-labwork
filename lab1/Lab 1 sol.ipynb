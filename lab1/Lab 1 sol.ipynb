{
 "cells": [
  {
   "cell_type": "markdown",
   "metadata": {},
   "source": [
    "# WAP to check if  number is divisible by 7"
   ]
  },
  {
   "cell_type": "code",
   "execution_count": 2,
   "metadata": {},
   "outputs": [
    {
     "name": "stdout",
     "output_type": "stream",
     "text": [
      "Enter a number:49\n",
      "Divisible\n"
     ]
    }
   ],
   "source": [
    "no=int(input(\"Enter a number:\"))\n",
    "if(no%7==0):\n",
    "    print(\"Divisible\")\n",
    "else:\n",
    "    print(\"Not Divisible\")"
   ]
  },
  {
   "cell_type": "markdown",
   "metadata": {},
   "source": [
    "# WAP to check if a number is even or odd"
   ]
  },
  {
   "cell_type": "code",
   "execution_count": 4,
   "metadata": {},
   "outputs": [
    {
     "name": "stdout",
     "output_type": "stream",
     "text": [
      "Enter a number:4\n",
      "Even\n"
     ]
    }
   ],
   "source": [
    "no=int(input(\"Enter a number:\"))\n",
    "if(no%2==0):\n",
    "    print(\"Even\")\n",
    "else:\n",
    "    print(\"Odd\")"
   ]
  },
  {
   "cell_type": "markdown",
   "metadata": {},
   "source": [
    "# WAP to print electricity bill"
   ]
  },
  {
   "cell_type": "code",
   "execution_count": 7,
   "metadata": {},
   "outputs": [
    {
     "name": "stdout",
     "output_type": "stream",
     "text": [
      "Enter the units of electricity used:3000\n",
      "600.0\n"
     ]
    }
   ],
   "source": [
    "bill=int(input(\"Enter the units of electricity used:\"))\n",
    "if(bill>500):\n",
    "    total=bill*0.2\n",
    "    print(total)\n",
    "elif(bill>=500 or bill<=1000):\n",
    "    total=bill*0.4\n",
    "    print(total)\n",
    "elif(bill>=1001 or bill<=1500):\n",
    "    total=bill*0.6\n",
    "    print(total)\n",
    "elif(bill>=1501 or bill<=2000):\n",
    "    total=bill*1.5\n",
    "    print(total)\n",
    "elif(bill>=2001):\n",
    "    total=bill*2.5\n",
    "    print(total)"
   ]
  },
  {
   "cell_type": "markdown",
   "metadata": {},
   "source": [
    "## 4. WAP to print grade of a student\n",
    "    Less than 40 - NC\n",
    "    40 - Less than 50 - D\n",
    "    50 - Less than 60 - C\n",
    "    60 - Less than 70 - B\n",
    "    70 - Less than 80 - A\n",
    "    80 and Above - O\n"
   ]
  },
  {
   "cell_type": "code",
   "execution_count": 1,
   "metadata": {},
   "outputs": [
    {
     "name": "stdout",
     "output_type": "stream",
     "text": [
      "Enter percentage55\n",
      "55\n",
      "Grade=C\n"
     ]
    }
   ],
   "source": [
    "percent=input(\"Enter percentage\")\n",
    "percent=(int(percent))\n",
    "print(percent)\n",
    "if percent<40:\n",
    "    print(\"Grade=NC\")\n",
    "elif percent>=40 and percent<50:\n",
    "    print(\"Grade=D\")\n",
    "elif percent>=50 and percent<60:\n",
    "    print(\"Grade=C\")\n",
    "elif percent>=60 and percent<70:\n",
    "    print(\"Grade=B\")\n",
    "else:\n",
    "    print(\"Grade=O\")"
   ]
  }
 ],
 "metadata": {
  "kernelspec": {
   "display_name": "Python 3",
   "language": "python",
   "name": "python3"
  },
  "language_info": {
   "codemirror_mode": {
    "name": "ipython",
    "version": 3
   },
   "file_extension": ".py",
   "mimetype": "text/x-python",
   "name": "python",
   "nbconvert_exporter": "python",
   "pygments_lexer": "ipython3",
   "version": "3.7.6"
  }
 },
 "nbformat": 4,
 "nbformat_minor": 4
}
