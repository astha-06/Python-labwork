{
 "cells": [
  {
   "cell_type": "markdown",
   "metadata": {},
   "source": [
    "## 1.Write a function in python to find max of three numbers"
   ]
  },
  {
   "cell_type": "code",
   "execution_count": 1,
   "metadata": {},
   "outputs": [
    {
     "name": "stdout",
     "output_type": "stream",
     "text": [
      "The maximum of 3 numbers is 12\n"
     ]
    }
   ],
   "source": [
    "def max_of_three(a,b,c):\n",
    "    if a>b and a>c:\n",
    "        print(\"The maximum of 3 numbers is\",a)\n",
    "    elif b>a and b>c:\n",
    "        print(\"The maximum of 3 numbers is\",b)\n",
    "    else:\n",
    "        print(\"The maximum of 3 numbers is\",c)\n",
    "        \n",
    "max_of_three(10,3,12) "
   ]
  },
  {
   "cell_type": "markdown",
   "metadata": {},
   "source": [
    "## 2.Write a function in python to sum all the numbers in a list"
   ]
  },
  {
   "cell_type": "code",
   "execution_count": 7,
   "metadata": {},
   "outputs": [
    {
     "name": "stdout",
     "output_type": "stream",
     "text": [
      "Sum of list= 15\n"
     ]
    }
   ],
   "source": [
    "def sum(l):\n",
    "    s=0\n",
    "    for i in range(len(l)):\n",
    "        s=s+l[i]\n",
    "    print(\"Sum of list=\",s)\n",
    "lis=[9,1,2,3]\n",
    "sum(lis)"
   ]
  },
  {
   "cell_type": "markdown",
   "metadata": {},
   "source": [
    "## 3.Write a function in python to multiply all the numbrers in a list"
   ]
  },
  {
   "cell_type": "code",
   "execution_count": 9,
   "metadata": {},
   "outputs": [
    {
     "name": "stdout",
     "output_type": "stream",
     "text": [
      "Sum of list= 54\n"
     ]
    }
   ],
   "source": [
    "def mul(l):\n",
    "    m=1\n",
    "    for i in range(len(l)):\n",
    "        m=m*l[i]\n",
    "    print(\"Sum of list=\",m)\n",
    "lis=[9,1,2,3]\n",
    "mul(lis)"
   ]
  },
  {
   "cell_type": "markdown",
   "metadata": {},
   "source": [
    "## 4.Write a function in python to reverse a string"
   ]
  },
  {
   "cell_type": "code",
   "execution_count": 10,
   "metadata": {},
   "outputs": [
    {
     "name": "stdout",
     "output_type": "stream",
     "text": [
      "Enter a string:astha\n",
      "Reverse of string: ahtsa\n"
     ]
    }
   ],
   "source": [
    "def rev(s):\n",
    "    sr=s[::-1]\n",
    "    print(\"Reverse of string:\",sr)\n",
    "st=input(\"Enter a string:\")\n",
    "rev(st)"
   ]
  },
  {
   "cell_type": "markdown",
   "metadata": {},
   "source": [
    "## 5.Write a function in python that takes a list and returns a new list with unique elements of the first list"
   ]
  },
  {
   "cell_type": "code",
   "execution_count": 30,
   "metadata": {},
   "outputs": [
    {
     "name": "stdout",
     "output_type": "stream",
     "text": [
      "[1, 2, 5, 4, 9]\n"
     ]
    }
   ],
   "source": [
    "def new(l):\n",
    "    k=[]\n",
    "    for i in l:\n",
    "        if i not in k:\n",
    "            k.append(i)\n",
    "        \n",
    "    print(k)\n",
    "l=[1,2,5,2,4,1,9]\n",
    "new(l)\n",
    "   "
   ]
  },
  {
   "cell_type": "markdown",
   "metadata": {},
   "source": [
    "## 6.Write a function in python that checks whether a passed string is palindrome or not"
   ]
  },
  {
   "cell_type": "code",
   "execution_count": 14,
   "metadata": {},
   "outputs": [
    {
     "name": "stdout",
     "output_type": "stream",
     "text": [
      "Enter a string:sos\n",
      "Pallindrome string\n"
     ]
    }
   ],
   "source": [
    "def pali(s):\n",
    "    sr=s[::-1]\n",
    "    if(s==sr):\n",
    "        print(\"Pallindrome string\")\n",
    "    else:\n",
    "        print(\"not pallindrome\")\n",
    "st=input(\"Enter a string:\")\n",
    "pali(st)"
   ]
  },
  {
   "cell_type": "markdown",
   "metadata": {},
   "source": [
    "## 7.Write a function in python to access a function inside a function"
   ]
  },
  {
   "cell_type": "code",
   "execution_count": 32,
   "metadata": {},
   "outputs": [
    {
     "name": "stdout",
     "output_type": "stream",
     "text": [
      "Enter 1st no.2\n",
      "Enter 2nd no.1\n",
      "Sum= 3\n"
     ]
    }
   ],
   "source": [
    "def sum(x,y):\n",
    "    t=x+y\n",
    "    print(\"Sum=\",t) \n",
    "def inp():\n",
    "    a=int(input(\"Enter 1st no.\"))\n",
    "    b=int(input(\"Enter 2nd no.\"))\n",
    "    sum(a,b)\n",
    "inp()"
   ]
  },
  {
   "cell_type": "markdown",
   "metadata": {},
   "source": [
    "## 8.Write a function in python to generate even series upto the nth term"
   ]
  },
  {
   "cell_type": "code",
   "execution_count": 20,
   "metadata": {},
   "outputs": [
    {
     "name": "stdout",
     "output_type": "stream",
     "text": [
      "Enter the number till you want even numbers:25\n",
      "2 4 6 8 10 12 14 16 18 20 22 24 "
     ]
    }
   ],
   "source": [
    "def series(n):\n",
    "    i=1\n",
    "    while(i<no):\n",
    "        if(i%2==0):\n",
    "            print(i,end=' ')\n",
    "        i=i+1\n",
    "no=int(input(\"Enter the number till you want even numbers:\"))\n",
    "series(no)"
   ]
  },
  {
   "cell_type": "markdown",
   "metadata": {},
   "source": [
    "## 9.Write a function in python to check if a number is prime or not"
   ]
  },
  {
   "cell_type": "code",
   "execution_count": 22,
   "metadata": {},
   "outputs": [
    {
     "name": "stdout",
     "output_type": "stream",
     "text": [
      "Enter a number to check:25\n",
      "Not prime\n"
     ]
    }
   ],
   "source": [
    "def prime(n):\n",
    "    k=n//2\n",
    "    i=2\n",
    "    flag=0\n",
    "    for i in range(2, k):\n",
    "        if n%i==0.0:\n",
    "            flag=1\n",
    "            break\n",
    "    if flag==1:\n",
    "        print(\"Not prime\")\n",
    "    elif flag==0:\n",
    "        print(\"Prime\")\n",
    "\n",
    "no=int(input(\"Enter a number to check:\"))\n",
    "prime(no)"
   ]
  },
  {
   "cell_type": "markdown",
   "metadata": {},
   "source": [
    "## 10.Write a function in python to generate prime series between range inputted by a user."
   ]
  },
  {
   "cell_type": "code",
   "execution_count": 23,
   "metadata": {},
   "outputs": [
    {
     "name": "stdout",
     "output_type": "stream",
     "text": [
      "enter the range:25\n",
      "2 3 5 7 11 13 17 19 23 "
     ]
    }
   ],
   "source": [
    "def series(n):\n",
    "    \n",
    "    for num in range(1,n):\n",
    "        flag=0\n",
    "        if (num>1):\n",
    "            for i in range(2,num):\n",
    "                if(num%i==0):\n",
    "                    flag=1\n",
    "            if(flag==0):\n",
    "                print(num,end=' ')\n",
    "no=int(input(\"enter the range:\"))\n",
    "series(no)"
   ]
  },
  {
   "cell_type": "markdown",
   "metadata": {},
   "source": [
    "## 11.Write a recursive function in python to sum all the numbers in a list"
   ]
  },
  {
   "cell_type": "code",
   "execution_count": 24,
   "metadata": {},
   "outputs": [
    {
     "name": "stdout",
     "output_type": "stream",
     "text": [
      "10\n"
     ]
    }
   ],
   "source": [
    "def rsum(l,sum,i):\n",
    "    if i<len(l):\n",
    "        sum+=l[i]\n",
    "        i+=1\n",
    "        rsum(l,sum,i)\n",
    "    else:\n",
    "        print(sum)\n",
    "l=[1,2,3,4]\n",
    "sum=0\n",
    "i=0\n",
    "rsum(l,sum,i)\n"
   ]
  },
  {
   "cell_type": "markdown",
   "metadata": {},
   "source": [
    "## 12.Write a recursive function in python to multiply all the numbrers in a list"
   ]
  },
  {
   "cell_type": "code",
   "execution_count": 26,
   "metadata": {},
   "outputs": [
    {
     "name": "stdout",
     "output_type": "stream",
     "text": [
      "840\n"
     ]
    }
   ],
   "source": [
    "def rmul(l,m,i):\n",
    "    if i<len(l):\n",
    "        m=m*l[i]\n",
    "        i+=1\n",
    "        rmul(l,m,i)\n",
    "    else:\n",
    "        print(m)\n",
    "l=[4,5,6,7]\n",
    "mul=1\n",
    "i=0\n",
    "rmul(l,mul,i)"
   ]
  },
  {
   "cell_type": "markdown",
   "metadata": {},
   "source": [
    "## 13.Write a recursive function in python to reverse a string"
   ]
  },
  {
   "cell_type": "code",
   "execution_count": 28,
   "metadata": {},
   "outputs": [
    {
     "name": "stdout",
     "output_type": "stream",
     "text": [
      "a h t s a "
     ]
    }
   ],
   "source": [
    "def rs(s,i,y):\n",
    "    if y<len(s):\n",
    "        print(s[i],end=\" \") \n",
    "        i=i-1\n",
    "        y+=1\n",
    "        rs(s,i,y)\n",
    "s=\"astha\"\n",
    "i=-1\n",
    "y=0\n",
    "rs(s,i,y)"
   ]
  },
  {
   "cell_type": "markdown",
   "metadata": {},
   "source": [
    "## 14.Write a recursive function in python that takes a list and returns a new list with unique elements of the first list"
   ]
  },
  {
   "cell_type": "code",
   "execution_count": 29,
   "metadata": {},
   "outputs": [
    {
     "name": "stdout",
     "output_type": "stream",
     "text": [
      "[1, 2, 3, 4, 5, 6, 7]\n"
     ]
    }
   ],
   "source": [
    "def rlist(l,t,i):\n",
    "    if i<len(l):\n",
    "        if l[i] not in t:\n",
    "            t.append(l[i])\n",
    "    \n",
    "        rlist(l,t,i+1)\n",
    "        return t\n",
    "  \n",
    "    \n",
    "l=[1,2,3,4,2,5,6,6,7]\n",
    "i=0\n",
    "t=[]\n",
    "t=rlist(l,t,i)\n",
    "print(t)"
   ]
  },
  {
   "cell_type": "markdown",
   "metadata": {},
   "source": [
    "## 15.Write a recursive function in python that checks whether a passed string is palindrome or not"
   ]
  },
  {
   "cell_type": "code",
   "execution_count": 38,
   "metadata": {},
   "outputs": [
    {
     "name": "stdout",
     "output_type": "stream",
     "text": [
      "Not palindrome\n"
     ]
    }
   ],
   "source": [
    "def rpalin(s1,i,j):\n",
    "    if i<len(s1):\n",
    "        if s1[i]==s1[j]:\n",
    "            rpalin(s1,i+1,j-1)\n",
    "        else:\n",
    "            return 0\n",
    "        return 1\n",
    "i=0\n",
    "j=-1\n",
    "k=rpalin(\"lion\",i,j)\n",
    "if k==0:\n",
    "    print(\"Not palindrome\")\n",
    "elif k==1:\n",
    "    print(\"Palindrome\")\n",
    "    "
   ]
  },
  {
   "cell_type": "markdown",
   "metadata": {},
   "source": [
    "## 16.Write a recursive function in python to generate even series upto the nth term"
   ]
  },
  {
   "cell_type": "code",
   "execution_count": 40,
   "metadata": {},
   "outputs": [
    {
     "name": "stdout",
     "output_type": "stream",
     "text": [
      "Enter the range25\n",
      "0 2 4 6 8 10 12 14 16 18 20 22 24 "
     ]
    }
   ],
   "source": [
    "def reven(n,i):\n",
    "    if i<n:\n",
    "        if i%2==0:\n",
    "            print(i,end=' ')\n",
    "        reven(n,i+1)\n",
    "n=int(input(\"Enter the range\"))\n",
    "i=0\n",
    "reven(n,i)"
   ]
  },
  {
   "cell_type": "markdown",
   "metadata": {},
   "source": [
    "## 17.Write a recursive function in python to check if a number is prime or not"
   ]
  },
  {
   "cell_type": "code",
   "execution_count": 43,
   "metadata": {},
   "outputs": [
    {
     "name": "stdout",
     "output_type": "stream",
     "text": [
      "Enter the number to check: 7\n"
     ]
    },
    {
     "data": {
      "text/plain": [
       "True"
      ]
     },
     "execution_count": 43,
     "metadata": {},
     "output_type": "execute_result"
    }
   ],
   "source": [
    "def has_div2(n,i=2):\n",
    "    if n<=1:\n",
    "           return False\n",
    "    if i*i > n :\n",
    "           return True\n",
    "    if n%i == 0:\n",
    "           return False\n",
    "    return has_div2(n,i+1)\n",
    "n=int(input(\"Enter the number to check: \"))\n",
    "has_div2(n,i)"
   ]
  },
  {
   "cell_type": "markdown",
   "metadata": {},
   "source": [
    "## 18.Write a recursive function in python to generate prime series between range inputted by a user."
   ]
  },
  {
   "cell_type": "code",
   "execution_count": null,
   "metadata": {},
   "outputs": [],
   "source": []
  }
 ],
 "metadata": {
  "kernelspec": {
   "display_name": "Python 3",
   "language": "python",
   "name": "python3"
  },
  "language_info": {
   "codemirror_mode": {
    "name": "ipython",
    "version": 3
   },
   "file_extension": ".py",
   "mimetype": "text/x-python",
   "name": "python",
   "nbconvert_exporter": "python",
   "pygments_lexer": "ipython3",
   "version": "3.7.6"
  }
 },
 "nbformat": 4,
 "nbformat_minor": 4
}
