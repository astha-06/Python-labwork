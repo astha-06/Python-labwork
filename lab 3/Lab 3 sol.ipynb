{
 "cells": [
  {
   "cell_type": "markdown",
   "metadata": {},
   "source": [
    "# 1.WAP to check if a string is Palindrome or not"
   ]
  },
  {
   "cell_type": "code",
   "execution_count": 2,
   "metadata": {},
   "outputs": [
    {
     "name": "stdout",
     "output_type": "stream",
     "text": [
      "Enter a string:sos\n",
      "sos is Pallindrome string\n"
     ]
    }
   ],
   "source": [
    "s=input(\"Enter a string:\")\n",
    "sr=s[::-1]\n",
    "if(s==sr):\n",
    "    print(f\"{s} is Pallindrome string\")\n",
    "else:\n",
    "    print(f\"{s} is not pallindrome\")"
   ]
  },
  {
   "cell_type": "markdown",
   "metadata": {},
   "source": [
    "# 2.WAP that takes string as multiple words and then capitalize the first letter of each word and forms a new string"
   ]
  },
  {
   "cell_type": "code",
   "execution_count": 3,
   "metadata": {},
   "outputs": [
    {
     "name": "stdout",
     "output_type": "stream",
     "text": [
      "Enter a string:hey, take a chill pill\n",
      "Hey, Take A Chill Pill "
     ]
    }
   ],
   "source": [
    "s=input(\"Enter a string:\")\n",
    "lst=s.split()\n",
    "for i in lst:\n",
    "    print(i.capitalize(),end=' ')"
   ]
  },
  {
   "cell_type": "markdown",
   "metadata": {},
   "source": [
    "# 3.WAP to read a string and display the longest substring of the given string having just the consonants"
   ]
  },
  {
   "cell_type": "code",
   "execution_count": 1,
   "metadata": {},
   "outputs": [
    {
     "name": "stdout",
     "output_type": "stream",
     "text": [
      "enter:asthaa is great\n",
      "s gr\n"
     ]
    }
   ],
   "source": [
    "str=input(\"enter:\")\n",
    "w=\"\"\n",
    "max=\"\"\n",
    "for i in str:\n",
    "  if i in['a','e','i','o','u','A','E','I','O','U']:\n",
    "    if len(max)<len(w):\n",
    "      max=w\n",
    "    w=\"\"\n",
    "  else:\n",
    "    w+=i\n",
    "if len(w)>len(max):\n",
    "  print(w)\n",
    "else:\n",
    "  print(max)"
   ]
  },
  {
   "cell_type": "markdown",
   "metadata": {},
   "source": [
    "# 4.WAP to read a string and then prints a string that capitalizes every other letter in the string e.g. goel becomes gOeL "
   ]
  },
  {
   "cell_type": "code",
   "execution_count": 4,
   "metadata": {},
   "outputs": [
    {
     "name": "stdout",
     "output_type": "stream",
     "text": [
      "Enter the string:goel\n",
      "gOeL\n"
     ]
    }
   ],
   "source": [
    "str=input(\"Enter the string:\")\n",
    "s=\"\"\n",
    "l=len(str)\n",
    "for i in range(l):\n",
    "  if(i%2!=0):\n",
    "    s+=str[i].upper()\n",
    "  else:\n",
    "    s+=str[i].lower()\n",
    "print(s)"
   ]
  },
  {
   "cell_type": "markdown",
   "metadata": {},
   "source": [
    "# 5.WAP to read an email id of a person and vertify if it belongs to banasthali.in domain"
   ]
  },
  {
   "cell_type": "code",
   "execution_count": 5,
   "metadata": {},
   "outputs": [
    {
     "name": "stdout",
     "output_type": "stream",
     "text": [
      "Enter the email:astha@banathali.in\n",
      "not verified\n"
     ]
    }
   ],
   "source": [
    "email=input(\"Enter the email:\")\n",
    "#email= \"astha@banasthali.in\"\n",
    "em=list(email.split(\"@\"))\n",
    "for i in reversed(em):\n",
    "  if(i==\"banasthali.in\"):\n",
    "    print(\"Verified\")\n",
    "    break\n",
    "  else:\n",
    "    print(\"not verified\")\n",
    "    break"
   ]
  },
  {
   "cell_type": "markdown",
   "metadata": {},
   "source": [
    "# 6.WAP to count the number of vowels and consonants in an input string "
   ]
  },
  {
   "cell_type": "code",
   "execution_count": 6,
   "metadata": {},
   "outputs": [
    {
     "name": "stdout",
     "output_type": "stream",
     "text": [
      "enter a string:The lion is the king of the jungle.\n",
      "Vowels: 10 Consonants: 25\n"
     ]
    }
   ],
   "source": [
    "st=input(\"enter a string:\")\n",
    "vow=0\n",
    "con=0\n",
    "for i in range(len(st)):\n",
    "  if st[i] in['a','e','i','o','u']:\n",
    "    vow=vow+1\n",
    "  else:\n",
    "    con=con+1\n",
    "print(\"Vowels:\",vow,end=' ')\n",
    "print(\"Consonants:\",con)"
   ]
  },
  {
   "cell_type": "markdown",
   "metadata": {},
   "source": [
    "# 7.WAP to read a sentnece and count the articles it has"
   ]
  },
  {
   "cell_type": "code",
   "execution_count": 7,
   "metadata": {},
   "outputs": [
    {
     "name": "stdout",
     "output_type": "stream",
     "text": [
      "enter a string:The lion is the king of the jungle\n",
      "No of articles: 2\n"
     ]
    }
   ],
   "source": [
    "st=input(\"enter a string:\")\n",
    "c=0\n",
    "em=st.split()\n",
    "for i in range(len(em)):\n",
    "  if em[i] in ['a','an','the']:\n",
    "    c=c+1\n",
    "print(\"No of articles:\",c)"
   ]
  },
  {
   "cell_type": "markdown",
   "metadata": {},
   "source": [
    "# 8.WAP to check if a sentence is a penultimate or not"
   ]
  },
  {
   "cell_type": "code",
   "execution_count": 12,
   "metadata": {},
   "outputs": [
    {
     "name": "stdout",
     "output_type": "stream",
     "text": [
      "Enter a sentence:The quick brown fox jumps over the lazy dog\n",
      "not penultimate\n"
     ]
    }
   ],
   "source": [
    "s=input(\"Enter a sentence:\")\n",
    "l=s.split()\n",
    "j=-1\n",
    "flag=0\n",
    "for i in range(len(l)//2):\n",
    "    if l[i]!=l[j]:\n",
    "        flag=1\n",
    "        break\n",
    "    j=j-1\n",
    "if flag==0:\n",
    "    print(\"penultimate\")\n",
    "elif flag==1:\n",
    "    print(\"not penultimate\")"
   ]
  },
  {
   "cell_type": "markdown",
   "metadata": {},
   "source": [
    "# 9.WAP to read a string and check if it has \"good\" in it"
   ]
  },
  {
   "cell_type": "code",
   "execution_count": 10,
   "metadata": {},
   "outputs": [
    {
     "name": "stdout",
     "output_type": "stream",
     "text": [
      "Enter string:you are good\n",
      "String has good\n"
     ]
    }
   ],
   "source": [
    "st=input(\"Enter string:\")\n",
    "ls=st.split()\n",
    "flag=0\n",
    "for i in range(len(ls)):\n",
    "    if ls[i] in ('good'):\n",
    "        flag=1\n",
    "if flag==1:\n",
    "    print(\"String has good\")\n",
    "else:\n",
    "    print(\" String doesn't have good\")"
   ]
  }
 ],
 "metadata": {
  "kernelspec": {
   "display_name": "Python 3",
   "language": "python",
   "name": "python3"
  },
  "language_info": {
   "codemirror_mode": {
    "name": "ipython",
    "version": 3
   },
   "file_extension": ".py",
   "mimetype": "text/x-python",
   "name": "python",
   "nbconvert_exporter": "python",
   "pygments_lexer": "ipython3",
   "version": "3.7.6"
  }
 },
 "nbformat": 4,
 "nbformat_minor": 4
}
