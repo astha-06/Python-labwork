{
 "cells": [
  {
   "cell_type": "markdown",
   "metadata": {},
   "source": [
    "## 1. WAP to create a numpy array and find indices of non-zero elements"
   ]
  },
  {
   "cell_type": "code",
   "execution_count": 3,
   "metadata": {},
   "outputs": [
    {
     "name": "stdout",
     "output_type": "stream",
     "text": [
      "Input  array : \n",
      " [[ 0  8  0]\n",
      " [ 7  0  0]\n",
      " [-5  0  1]]\n",
      "Indices of non zero elements :  [[0 1]\n",
      " [1 0]\n",
      " [2 0]\n",
      " [2 2]]\n"
     ]
    }
   ],
   "source": [
    "import numpy as np\n",
    "arr = np.array([[0, 8, 0], [7, 0, 0], [-5, 0, 1]]) \n",
    "  \n",
    "print (\"Input  array : \\n\", arr) \n",
    "    \n",
    "out = np.transpose(np.nonzero(arr)) \n",
    "print (\"Indices of non zero elements : \", out) "
   ]
  },
  {
   "cell_type": "markdown",
   "metadata": {},
   "source": [
    "## 2. WAP to create a numpy to create a 3x3 identity matrix"
   ]
  },
  {
   "cell_type": "code",
   "execution_count": 36,
   "metadata": {},
   "outputs": [
    {
     "name": "stdout",
     "output_type": "stream",
     "text": [
      "3x3 matrix:\n",
      "[[1. 0. 0.]\n",
      " [0. 1. 0.]\n",
      " [0. 0. 1.]]\n"
     ]
    }
   ],
   "source": [
    "arr=np.identity(3)\n",
    "print('3x3 matrix:')\n",
    "print(arr)"
   ]
  },
  {
   "cell_type": "markdown",
   "metadata": {},
   "source": [
    "## 3.WAP to create a numpy to create a 3x3x3 array with random values"
   ]
  },
  {
   "cell_type": "code",
   "execution_count": 39,
   "metadata": {},
   "outputs": [
    {
     "name": "stdout",
     "output_type": "stream",
     "text": [
      "[[[1 3 0]\n",
      "  [3 8 6]\n",
      "  [5 1 6]]\n",
      "\n",
      " [[5 8 6]\n",
      "  [7 7 3]\n",
      "  [4 3 9]]\n",
      "\n",
      " [[9 6 2]\n",
      "  [8 3 8]\n",
      "  [8 4 4]]]\n"
     ]
    }
   ],
   "source": [
    "A = np.random.randint(10, size=(3, 3,3))\n",
    "print(A)"
   ]
  },
  {
   "cell_type": "markdown",
   "metadata": {},
   "source": [
    "## 4.WAP to create a numpy to create a random vector of size 30 and find the mean value"
   ]
  },
  {
   "cell_type": "code",
   "execution_count": 8,
   "metadata": {},
   "outputs": [
    {
     "name": "stdout",
     "output_type": "stream",
     "text": [
      "[0.33890649 0.26005828 0.06259775 0.54187458 0.56600062 0.5093039\n",
      " 0.60944464 0.81983143 0.83757829 0.40845268 0.61730015 0.91084582\n",
      " 0.31054231 0.08048973 0.97160564 0.83578037 0.43690142 0.21824104\n",
      " 0.53312768 0.60769952 0.87076518 0.60304682 0.47485356 0.49390058\n",
      " 0.34228109 0.23627363 0.6406051  0.68685809 0.32457508 0.33493168]\n",
      "sum= 15.484673147114988\n",
      "mean of random 30 vectors= 0.5161557715704996\n"
     ]
    }
   ],
   "source": [
    "x = np.random.random(30)\n",
    "print(x)\n",
    "sum=0\n",
    "for i in x:\n",
    "    sum=sum+i\n",
    "print(\"sum=\",sum)\n",
    "m=sum/30\n",
    "print(\"mean of random 30 vectors=\",m)"
   ]
  },
  {
   "cell_type": "markdown",
   "metadata": {},
   "source": [
    "## 5.WAP to create a numpy to multiply a 5x3 matrix by a 3x2 matrix"
   ]
  },
  {
   "cell_type": "code",
   "execution_count": 33,
   "metadata": {},
   "outputs": [
    {
     "name": "stdout",
     "output_type": "stream",
     "text": [
      "Matrix A: \n",
      " [[3 4 0]\n",
      " [5 9 9]\n",
      " [3 4 4]\n",
      " [0 8 2]\n",
      " [3 6 4]]\n",
      "Matrix B:\n",
      " [[8 7]\n",
      " [6 7]\n",
      " [8 5]]\n",
      "Multiplication matrix:\n",
      " [[ 48  49]\n",
      " [166 143]\n",
      " [ 80  69]\n",
      " [ 64  66]\n",
      " [ 92  83]]\n"
     ]
    }
   ],
   "source": [
    "A = np.random.randint(10, size=(5, 3))\n",
    "print(\"Matrix A: \\n\", A)\n",
    "B = np.random.randint(10, size=(3, 2))\n",
    "print (\"Matrix B:\\n\",B)\n",
    "mul=np.dot(A,B)\n",
    "print(\"Multiplication matrix:\\n\",mul)"
   ]
  },
  {
   "cell_type": "markdown",
   "metadata": {},
   "source": [
    "## 6.WAP to create a numpy to input two arrays, X and Y, construct the Cauchy matrix C (Cij =1/(xi - yj))"
   ]
  },
  {
   "cell_type": "code",
   "execution_count": null,
   "metadata": {},
   "outputs": [],
   "source": []
  },
  {
   "cell_type": "markdown",
   "metadata": {},
   "source": [
    "## 7.WAP to print all the values of an array"
   ]
  },
  {
   "cell_type": "code",
   "execution_count": null,
   "metadata": {},
   "outputs": [],
   "source": []
  }
 ],
 "metadata": {
  "kernelspec": {
   "display_name": "Python 3",
   "language": "python",
   "name": "python3"
  },
  "language_info": {
   "codemirror_mode": {
    "name": "ipython",
    "version": 3
   },
   "file_extension": ".py",
   "mimetype": "text/x-python",
   "name": "python",
   "nbconvert_exporter": "python",
   "pygments_lexer": "ipython3",
   "version": "3.7.6"
  }
 },
 "nbformat": 4,
 "nbformat_minor": 4
}
