{
 "cells": [
  {
   "cell_type": "markdown",
   "metadata": {},
   "source": [
    "## 1.WAP to read a file and print the number of characters, words and lines it has"
   ]
  },
  {
   "cell_type": "code",
   "execution_count": 1,
   "metadata": {},
   "outputs": [
    {
     "name": "stdout",
     "output_type": "stream",
     "text": [
      "This is the first line\n",
      "we are learning file handling in python['This', 'is', 'the', 'first', 'line', 'we', 'are', 'learning', 'file', 'handling', 'in', 'python']\n",
      "\n",
      "no of words= 12\n",
      "no of characters= 62\n",
      "no of lines= 2\n"
     ]
    }
   ],
   "source": [
    "#import re\n",
    "f=open(\"Demo.txt\",\"r\")\n",
    "char=0\n",
    "l=0\n",
    "w=0\n",
    "fo=f.read()\n",
    "for i in fo:\n",
    "    print(i,end='')\n",
    "word=fo.split()\n",
    "#word=re.split(' |\\n',fo)\n",
    "print(word)\n",
    "for i in word:\n",
    "    w=w+1\n",
    "print(\"\\nno of words=\",w)\n",
    "for i in range(len(fo)):\n",
    "    #print(fo[i],end='')\n",
    "    char=char+1\n",
    "print(\"no of characters=\",char)\n",
    "line=fo.split(\"\\n\")\n",
    "for i in line:\n",
    "    l=l+1\n",
    "print(\"no of lines=\",l)\n",
    "f.close()\n"
   ]
  },
  {
   "cell_type": "markdown",
   "metadata": {},
   "source": [
    "## 2.WAP to copy contents of one file into another file"
   ]
  },
  {
   "cell_type": "code",
   "execution_count": 23,
   "metadata": {},
   "outputs": [],
   "source": [
    "f=open(\"Demo.txt\",\"r\")\n",
    "f1=open(\"Democopy.txt\",\"a\")\n",
    "for i in f:\n",
    "    f1.write(i)"
   ]
  },
  {
   "cell_type": "markdown",
   "metadata": {},
   "source": [
    "## 3.WAP to read a file and count the number of vowels it has"
   ]
  },
  {
   "cell_type": "code",
   "execution_count": 2,
   "metadata": {},
   "outputs": [
    {
     "name": "stdout",
     "output_type": "stream",
     "text": [
      "No of vowels = 18\n"
     ]
    }
   ],
   "source": [
    "f=open(\"Demo.txt\",\"r\")\n",
    "vow=0\n",
    "for i in f.read():\n",
    "    if i in ['a','e','i','o','u'] or i in['A','E','I','O','U'] :\n",
    "        vow=vow+1\n",
    "f.close()\n",
    "print(\"No of vowels =\",vow)"
   ]
  },
  {
   "cell_type": "markdown",
   "metadata": {},
   "source": [
    "## 4.WAP to read a file and count the number of articles it has"
   ]
  },
  {
   "cell_type": "code",
   "execution_count": 19,
   "metadata": {},
   "outputs": [
    {
     "name": "stdout",
     "output_type": "stream",
     "text": [
      "['This', 'is', 'the', 'first', 'line', 'we', 'are', 'learning', 'file', 'handling', 'in', 'python']\n",
      "number of articles 1\n"
     ]
    }
   ],
   "source": [
    "f=open(\"Demo.txt\",\"r\")\n",
    "fo=f.read()\n",
    "pi=fo.split()\n",
    "print(pi)\n",
    "w=0\n",
    "for i in pi:\n",
    "    if i in ['a','an','the','A','An','The']:\n",
    "        w+=1\n",
    "print(\"number of articles\",w)"
   ]
  },
  {
   "cell_type": "markdown",
   "metadata": {},
   "source": [
    "## 5.WAP to read a file reverse the contents of file (last line of the file should become the first line of the file)"
   ]
  },
  {
   "cell_type": "code",
   "execution_count": 46,
   "metadata": {},
   "outputs": [
    {
     "name": "stdout",
     "output_type": "stream",
     "text": [
      "['This is the first line', 'we are learning file handling in python']\n"
     ]
    },
    {
     "data": {
      "text/plain": [
       "['we are learning file handling in python', 'This is the first line']"
      ]
     },
     "execution_count": 46,
     "metadata": {},
     "output_type": "execute_result"
    }
   ],
   "source": [
    "f=open(\"Demo.txt\",\"r+\") #open the file in read-write mode\n",
    "fo=f.read()\n",
    "pi=fo.split(\"\\n\")\n",
    "print(pi)\n",
    "pi[::-1]\n"
   ]
  }
 ],
 "metadata": {
  "kernelspec": {
   "display_name": "Python 3",
   "language": "python",
   "name": "python3"
  },
  "language_info": {
   "codemirror_mode": {
    "name": "ipython",
    "version": 3
   },
   "file_extension": ".py",
   "mimetype": "text/x-python",
   "name": "python",
   "nbconvert_exporter": "python",
   "pygments_lexer": "ipython3",
   "version": "3.7.6"
  }
 },
 "nbformat": 4,
 "nbformat_minor": 4
}
