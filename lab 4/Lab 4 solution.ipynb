{
 "cells": [
  {
   "cell_type": "markdown",
   "metadata": {},
   "source": [
    "# 1.WAP to find minimum element from a list of integers alongwith its index in the list"
   ]
  },
  {
   "cell_type": "code",
   "execution_count": 1,
   "metadata": {},
   "outputs": [
    {
     "name": "stdout",
     "output_type": "stream",
     "text": [
      "Enter multiple value: 1 20 0 36 15\n",
      "min element is 0 on index 2\n"
     ]
    }
   ],
   "source": [
    "x = list(map(int, input(\"Enter multiple value: \").split()))\n",
    "#print(min(x))\n",
    "i=0\n",
    "m=x[0]\n",
    "for i in range(len(x)):\n",
    "    if (x[i]<m):\n",
    "        m=x[i]\n",
    "print(f\"min element is {m} on index {x.index(m)}\")\n",
    "    "
   ]
  },
  {
   "cell_type": "markdown",
   "metadata": {},
   "source": [
    "## 2.WAP to calcualte mean of a given list of numbers"
   ]
  },
  {
   "cell_type": "code",
   "execution_count": 2,
   "metadata": {},
   "outputs": [
    {
     "name": "stdout",
     "output_type": "stream",
     "text": [
      "Enter number of elements in list: 3\n",
      "Enter elements: 12\n",
      "Enter elements: 15\n",
      "Enter elements: 20\n",
      "Mean= 15.666666666666666\n"
     ]
    }
   ],
   "source": [
    "list1 = [] \n",
    "num = int(input(\"Enter number of elements in list: \")) \n",
    "for i in range(1, num + 1): \n",
    "    ele= int(input(\"Enter elements: \")) \n",
    "    list1.append(ele) \n",
    "s=0\n",
    "mean=0\n",
    "for i in range(len(list1)):\n",
    "    s=s+list1[i]\n",
    "m=s/len(list1)\n",
    "print(\"Mean=\",m)"
   ]
  },
  {
   "cell_type": "markdown",
   "metadata": {},
   "source": [
    "## 3.WAP to search an element in a list"
   ]
  },
  {
   "cell_type": "code",
   "execution_count": 3,
   "metadata": {},
   "outputs": [
    {
     "name": "stdout",
     "output_type": "stream",
     "text": [
      "Enter the number of elemnts:4\n",
      "Enter the 1th ele:8\n",
      "Enter the 2th ele:6\n",
      "Enter the 3th ele:4\n",
      "Enter the 4th ele:2\n",
      "[8, 6, 4, 2]\n",
      "Enter the number you wanna search:2\n",
      "2  found\n"
     ]
    }
   ],
   "source": [
    "l=[]\n",
    "n=int(input(\"Enter the number of elemnts:\"))\n",
    "for i in range(1,n+1):\n",
    "    ele=int(input(f\"Enter the {i}th ele:\"))\n",
    "    l.append(ele)\n",
    "flag=0\n",
    "print(l)\n",
    "num=int(input(\"Enter the number you wanna search:\"))\n",
    "for i in range(len(l)):\n",
    "    if l[i]==num:\n",
    "        flag=1\n",
    "        break\n",
    "if(flag==1):\n",
    "    print(num,\" found\")\n",
    "else:\n",
    "    print(\"num not found\")"
   ]
  },
  {
   "cell_type": "markdown",
   "metadata": {},
   "source": [
    "## 4.WAP to count the frequency of an element in a list"
   ]
  },
  {
   "cell_type": "code",
   "execution_count": 4,
   "metadata": {},
   "outputs": [
    {
     "name": "stdout",
     "output_type": "stream",
     "text": [
      "Enter the number of elemnts:5\n",
      "Enter the 1th ele:2\n",
      "Enter the 2th ele:2\n",
      "Enter the 3th ele:4\n",
      "Enter the 4th ele:3\n",
      "Enter the 5th ele:1\n",
      "[2, 2, 4, 3, 1]\n",
      "Enter the element2\n",
      "Frequency of the given num= 2\n"
     ]
    }
   ],
   "source": [
    "l=[]\n",
    "n=int(input(\"Enter the number of elemnts:\"))\n",
    "for i in range(1,n+1):\n",
    "    ele=int(input(f\"Enter the {i}th ele:\"))\n",
    "    l.append(ele)\n",
    "print(l)\n",
    "num=int(input(\"Enter the element\"))\n",
    "#c=0\n",
    "#for i in range(len(l)):\n",
    " #   if l[i]==num:\n",
    "  #      c=c+1\n",
    "\n",
    "c=l.count(num)\n",
    "print(\"Frequency of the given num=\",c)\n"
   ]
  },
  {
   "cell_type": "markdown",
   "metadata": {},
   "source": [
    "## 5.WAP to find frequencies of all elements in a list"
   ]
  },
  {
   "cell_type": "code",
   "execution_count": 5,
   "metadata": {},
   "outputs": [
    {
     "name": "stdout",
     "output_type": "stream",
     "text": [
      "enter numbers:121195532233\n",
      "frequency of numbers: {'1': 3, '2': 3, '9': 1, '5': 2, '3': 3}\n"
     ]
    }
   ],
   "source": [
    "l=list(input(\"enter numbers:\"))\n",
    "lis={}\n",
    "for i in (l):\n",
    "    if i in lis:\n",
    "        lis[i]+=1\n",
    "    else:\n",
    "        lis[i]=1\n",
    "print(\"frequency of numbers:\",lis)"
   ]
  },
  {
   "cell_type": "markdown",
   "metadata": {},
   "source": [
    "## 6.WAP to extract two slices from a list and add the slices and find which one is greater"
   ]
  },
  {
   "cell_type": "code",
   "execution_count": 6,
   "metadata": {},
   "outputs": [
    {
     "name": "stdout",
     "output_type": "stream",
     "text": [
      "enter numbers:12345856\n",
      "enter start of slicing:1\n",
      "enter stop of slicing:3\n",
      "1st slicing:\n",
      "['1', '2', '3']\n",
      "enter start of slicing:5\n",
      "enter stop of slicing:8\n",
      "2nd slicing:['5', '8', '5', '6']\n",
      "['1', '2', '3', '5', '8', '5', '6']\n",
      "Sliced list is greater\n"
     ]
    }
   ],
   "source": [
    "l=list(input(\"enter numbers:\"))\n",
    "a=int(input(\"enter start of slicing:\"))\n",
    "b=int(input(\"enter stop of slicing:\"))\n",
    "new=l[a-1:b]\n",
    "print(\"1st slicing:\")\n",
    "print(new)\n",
    "\n",
    "c=int(input(\"enter start of slicing:\"))\n",
    "d=int(input(\"enter stop of slicing:\"))\n",
    "new1=l[c-1:d]\n",
    "print(\"2nd slicing:\",end='')\n",
    "print(new1)\n",
    "new.extend(new1)\n",
    "print(new)\n",
    "if(new>l):\n",
    "  print(\"Sliced list is greater\")\n",
    "else:\n",
    "  print(\"Oiginal list is greater\")"
   ]
  },
  {
   "cell_type": "markdown",
   "metadata": {},
   "source": [
    "## 7.WAP to find second largest number of a list"
   ]
  },
  {
   "cell_type": "code",
   "execution_count": 7,
   "metadata": {},
   "outputs": [
    {
     "name": "stdout",
     "output_type": "stream",
     "text": [
      "Enter the number of elemnts:5\n",
      "Enter the 1th ele:12\n",
      "Enter the 2th ele:24\n",
      "Enter the 3th ele:3\n",
      "Enter the 4th ele:9\n",
      "Enter the 5th ele:8\n",
      "Second largest number= 12\n"
     ]
    }
   ],
   "source": [
    "l=[]\n",
    "n=int(input(\"Enter the number of elemnts:\"))\n",
    "for i in range(1,n+1):\n",
    "    ele=int(input(f\"Enter the {i}th ele:\"))\n",
    "    l.append(ele)\n",
    "m1=l[0]\n",
    "for i in range(len(l)):\n",
    "    if(l[i]>m1):\n",
    "        m1=l[i]\n",
    "l.remove(m1)\n",
    "m2=l[0]\n",
    "for i in range(len(l)):\n",
    "    if(l[i]>m2):\n",
    "        m2=l[i]\n",
    "print(\"Second largest number=\",m2)"
   ]
  },
  {
   "cell_type": "markdown",
   "metadata": {},
   "source": [
    "## 8.WAP to input a list of numbers and shift all zeros to the right and all non zeros to left of the list"
   ]
  },
  {
   "cell_type": "code",
   "execution_count": 2,
   "metadata": {},
   "outputs": [
    {
     "name": "stdout",
     "output_type": "stream",
     "text": [
      "enter numbers:5020604\n",
      "['5', '2', '6', '4', '0', '0', '0']\n"
     ]
    }
   ],
   "source": [
    "l=list(input(\"enter numbers:\"))\n",
    "m=[]\n",
    "for i in l:\n",
    "  if i in ['0']:\n",
    "    l.remove('0')\n",
    "    m.append('0')\n",
    "l.extend(m)\n",
    "print(l)"
   ]
  },
  {
   "cell_type": "markdown",
   "metadata": {},
   "source": [
    "## 9.WAP to add two matrices"
   ]
  },
  {
   "cell_type": "code",
   "execution_count": 9,
   "metadata": {},
   "outputs": [
    {
     "name": "stdout",
     "output_type": "stream",
     "text": [
      "Enter the number of rows:2\n",
      "Enter the number of columns:2\n",
      "Enter the entries of frist matrix rowwise:\n",
      "1\n",
      "2\n",
      "3\n",
      "4\n",
      "Enter the entries of second matrix rowwise:\n",
      "5\n",
      "6\n",
      "7\n",
      "8\n",
      "Rsultant matrix:\n",
      "6   8   \n",
      "10  12  \n"
     ]
    }
   ],
   "source": [
    "R = int(input(\"Enter the number of rows:\")) \n",
    "C = int(input(\"Enter the number of columns:\")) \n",
    "  \n",
    "matrix1 = [] \n",
    "print(\"Enter the entries of frist matrix rowwise:\") \n",
    "for i in range(R):          \n",
    "    a =[] \n",
    "    for j in range(C):       \n",
    "         a.append(int(input())) \n",
    "    matrix1.append(a) \n",
    "\n",
    "matrix2=[]\n",
    "print(\"Enter the entries of second matrix rowwise:\") \n",
    "for i in range(R):          \n",
    "    b=[] \n",
    "    for j in range(C):       \n",
    "         b.append(int(input())) \n",
    "    matrix2.append(b) \n",
    " \n",
    "    \n",
    "result=[[0 for i in range(C)]for i in range(R)]    #list comprehension method( We put 0 initially to take the result as 0 initially)\n",
    "for i in range(R):          \n",
    "  for j in range(C):       \n",
    "    result[i][j]=matrix1[i][j]+matrix2[i][j]\n",
    "\n",
    "print(\"Rsultant matrix:\")\n",
    "for i in range(R): \n",
    "  for j in range(C): \n",
    "      print(format(result[i][j],\"<3\"), end = \" \")   #format the reult so that every value is equidistant\n",
    "  print()     #for printing values in new row after every row"
   ]
  },
  {
   "cell_type": "markdown",
   "metadata": {},
   "source": [
    "## 10.WAP to multiply two matrices"
   ]
  },
  {
   "cell_type": "code",
   "execution_count": 10,
   "metadata": {},
   "outputs": [
    {
     "name": "stdout",
     "output_type": "stream",
     "text": [
      "[114, 160, 60, 27]\n",
      "[74, 97, 73, 14]\n",
      "[119, 157, 112, 23]\n"
     ]
    }
   ],
   "source": [
    "A = [[12, 7, 3], \n",
    "    [4, 5, 6], \n",
    "    [7, 8, 9]] \n",
    "     \n",
    "B = [[5, 8, 1, 2], \n",
    "    [6, 7, 3, 0], \n",
    "    [4, 5, 9, 1]] \n",
    "      \n",
    "result = [[0, 0, 0, 0], \n",
    "        [0, 0, 0, 0], \n",
    "        [0, 0, 0, 0]] \n",
    "  \n",
    "# iterating by row of A \n",
    "for i in range(len(A)): \n",
    "  \n",
    "    # iterating by coloum by B  \n",
    "    for j in range(len(B[0])): \n",
    "  \n",
    "        # iterating by rows of B \n",
    "        for k in range(len(B)): \n",
    "            result[i][j] += A[i][k] * B[k][j] \n",
    "  \n",
    "for r in result: \n",
    "    print(r) "
   ]
  },
  {
   "cell_type": "markdown",
   "metadata": {},
   "source": [
    "## 11.WAP to print transpose of a matrix"
   ]
  },
  {
   "cell_type": "code",
   "execution_count": 11,
   "metadata": {},
   "outputs": [
    {
     "name": "stdout",
     "output_type": "stream",
     "text": [
      "Enter the number of rows:3\n",
      "Enter the number of columns:3\n",
      "Enter the entries row wise:\n",
      "1\n",
      "5\n",
      "6\n",
      "7\n",
      "8\n",
      "9\n",
      "2\n",
      "3\n",
      "4\n",
      "1 7 2 \n",
      "5 8 3 \n",
      "6 9 4 \n"
     ]
    }
   ],
   "source": [
    "R = int(input(\"Enter the number of rows:\")) \n",
    "C = int(input(\"Enter the number of columns:\")) \n",
    "  \n",
    "\n",
    "matrix = [] \n",
    "print(\"Enter the entries row wise:\") \n",
    "  \n",
    " \n",
    "for i in range(R):          \n",
    "    a =[] \n",
    "    for j in range(C):       \n",
    "         a.append(int(input())) \n",
    "    matrix.append(a) \n",
    "  \n",
    " \n",
    "for j in range(C): \n",
    "    for i in range(R): \n",
    "        print(matrix[i][j], end = \" \") \n",
    "    print() \n",
    "    \n",
    "#for i in range(R): \n",
    "    #for j in range(C): \n",
    "        #print(matrix[j][i], end = \" \") \n",
    "   # print() "
   ]
  },
  {
   "cell_type": "markdown",
   "metadata": {},
   "source": [
    "## 12.WAP to add elements of diagonal of a matrix"
   ]
  },
  {
   "cell_type": "code",
   "execution_count": 12,
   "metadata": {},
   "outputs": [
    {
     "name": "stdout",
     "output_type": "stream",
     "text": [
      "enter the number or rows:3\n",
      "enter the no of cols:3\n",
      "enter the elements :\n",
      "1\n",
      "2\n",
      "3\n",
      "4\n",
      "5\n",
      "6\n",
      "7\n",
      "8\n",
      "9\n",
      "1   2   3   \n",
      "4   5   6   \n",
      "7   8   9   \n",
      "Sum of diagonal elements= 15\n"
     ]
    }
   ],
   "source": [
    "r=int(input(\"enter the number or rows:\"))\n",
    "c=int(input(\"enter the no of cols:\"))\n",
    "print(\"enter the elements :\")\n",
    "matrix=[[int(input()) for i in range(r)]for j in range(c)]\n",
    "for i in range(r): \n",
    "  for j in range(c): \n",
    "      print(format(matrix[i][j],\"<3\"),end = \" \") \n",
    "  print()\n",
    "sum=0\n",
    "for i in range(r): \n",
    "  for j in range(c): \n",
    "      if(i==j):\n",
    "            sum=sum+matrix[i][j]\n",
    "print(\"Sum of diagonal elements=\",sum)"
   ]
  },
  {
   "cell_type": "markdown",
   "metadata": {},
   "source": [
    "## 13.WAP to find an element in a matrix"
   ]
  },
  {
   "cell_type": "code",
   "execution_count": 13,
   "metadata": {},
   "outputs": [
    {
     "name": "stdout",
     "output_type": "stream",
     "text": [
      "enter the number or rows:3\n",
      "enter the no of cols:3\n",
      "enter the elements :\n",
      "5\n",
      "4\n",
      "9\n",
      "10\n",
      "7\n",
      "8\n",
      "12\n",
      "3\n",
      "6\n",
      "5   4   9   \n",
      "10  7   8   \n",
      "12  3   6   \n",
      "enter the number you want to search:12\n",
      "12 found\n"
     ]
    }
   ],
   "source": [
    "r=int(input(\"enter the number or rows:\"))\n",
    "c=int(input(\"enter the no of cols:\"))\n",
    "print(\"enter the elements :\")\n",
    "matrix=[[int(input()) for i in range(r)]for j in range(c)]\n",
    "for i in range(r): \n",
    "  for j in range(c): \n",
    "      print(format(matrix[i][j],\"<3\"),end = \" \") \n",
    "  print()\n",
    "num=int(input(\"enter the number you want to search:\"))\n",
    "flag=0\n",
    "for i in range(r): \n",
    "  for j in range(c): \n",
    "      if(matrix[i][j]==num):\n",
    "            flag=1\n",
    "if(flag==1):\n",
    "    print(f\"{num} found\")\n",
    "else:\n",
    "    print(f\"{num} not found\")"
   ]
  },
  {
   "cell_type": "markdown",
   "metadata": {},
   "source": [
    "## 14.WAP to find inverse of a matrix"
   ]
  },
  {
   "cell_type": "code",
   "execution_count": 7,
   "metadata": {},
   "outputs": [
    {
     "name": "stdout",
     "output_type": "stream",
     "text": [
      "Enter the number of rows:2\n",
      "Enter the number of columns:2\n",
      "Enter the entries row wise:\n",
      "4\n",
      "5\n",
      "1\n",
      "2\n",
      "Inverse of a matrix : \n",
      "0.6666666666666666 -1.6666666666666665 \n",
      "-0.3333333333333333 1.3333333333333333 \n"
     ]
    }
   ],
   "source": [
    "import numpy as n\n",
    "r = int(input(\"Enter the number of rows:\")) \n",
    "c = int(input(\"Enter the number of columns:\")) \n",
    "print(\"Enter the entries row wise:\")  \n",
    "matrix=[[int(input()) for i in range(r)]for j in range(c)]\n",
    "   \n",
    "      \n",
    "att=n.linalg.inv(matrix) \n",
    "print(\"Inverse of a matrix : \")\n",
    "for i in range(r): \n",
    "    for j in range(c): \n",
    "      print(format(att[i][j],\"<3\"),end = \" \") \n",
    "    print()"
   ]
  }
 ],
 "metadata": {
  "kernelspec": {
   "display_name": "Python 3",
   "language": "python",
   "name": "python3"
  },
  "language_info": {
   "codemirror_mode": {
    "name": "ipython",
    "version": 3
   },
   "file_extension": ".py",
   "mimetype": "text/x-python",
   "name": "python",
   "nbconvert_exporter": "python",
   "pygments_lexer": "ipython3",
   "version": "3.7.6"
  }
 },
 "nbformat": 4,
 "nbformat_minor": 4
}
