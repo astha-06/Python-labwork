{
 "cells": [
  {
   "cell_type": "markdown",
   "metadata": {},
   "source": [
    "## 1.WAP using numpy input two arrays as A=(1,0) and B=(0,1) and calcuate two new arrays as C = 1/sqrt(2)(A+B) D = 1/sqrt(2)(A+B)"
   ]
  },
  {
   "cell_type": "code",
   "execution_count": 2,
   "metadata": {},
   "outputs": [],
   "source": [
    "import numpy as np"
   ]
  },
  {
   "cell_type": "code",
   "execution_count": 17,
   "metadata": {},
   "outputs": [
    {
     "name": "stdout",
     "output_type": "stream",
     "text": [
      "[1.41421356 1.41421356]\n",
      "[1.41421356 1.41421356]\n"
     ]
    }
   ],
   "source": [
    "A=np.array([1,0])\n",
    "B=np.array([0,1])\n",
    "res=np.sqrt(2)\n",
    "C=(A+B)*res\n",
    "print(C)\n",
    "D=(A+B)*res\n",
    "print(D)"
   ]
  },
  {
   "cell_type": "markdown",
   "metadata": {},
   "source": [
    "## 2.WAP using numpy to create a matrix A of 2x2 then find the size of A and print element (1,1) of A"
   ]
  },
  {
   "cell_type": "code",
   "execution_count": 15,
   "metadata": {},
   "outputs": [
    {
     "name": "stdout",
     "output_type": "stream",
     "text": [
      "[[1 2]\n",
      " [5 6]]\n"
     ]
    },
    {
     "data": {
      "text/plain": [
       "6"
      ]
     },
     "execution_count": 15,
     "metadata": {},
     "output_type": "execute_result"
    }
   ],
   "source": [
    "A=np.matrix('[1,2;5,6]')\n",
    "np.shape(A)\n",
    "print(A)\n",
    "A[1,1]"
   ]
  },
  {
   "cell_type": "markdown",
   "metadata": {},
   "source": [
    "## 3.WAP using numpy to find an element in an array"
   ]
  },
  {
   "cell_type": "code",
   "execution_count": 6,
   "metadata": {},
   "outputs": [
    {
     "name": "stdout",
     "output_type": "stream",
     "text": [
      "[ 1  0  5 10  2  6]\n",
      "enter the number you want to search:4\n",
      "(array([], dtype=int64),)\n"
     ]
    }
   ],
   "source": [
    "import time\n",
    "A=np.array([1,0,5,10,2,6])\n",
    "print(A)\n",
    "time.sleep(1)\n",
    "n=int(input(\"enter the number you want to search:\"))\n",
    "#if n in A:\n",
    " #   print(f'{n} fOUND!')\n",
    "#else:\n",
    "#    print(f'{n} NOT FOUND!!')\n",
    "x = np.where(A == n)\n",
    "print(x)"
   ]
  },
  {
   "cell_type": "markdown",
   "metadata": {},
   "source": [
    "## 4.WAP using numpy to sort an array"
   ]
  },
  {
   "cell_type": "code",
   "execution_count": 13,
   "metadata": {},
   "outputs": [
    {
     "name": "stdout",
     "output_type": "stream",
     "text": [
      "Ascending order :  [ 1 10 12 15]\n"
     ]
    }
   ],
   "source": [
    "a = np.array([[12, 15,10, 1]]) \n",
    "arr1 = np.sort(a, axis = None)         \n",
    "print (\"Ascending order : \", arr1) "
   ]
  },
  {
   "cell_type": "markdown",
   "metadata": {},
   "source": [
    "## 5.WAP using numpy to sort a 2D array"
   ]
  },
  {
   "cell_type": "code",
   "execution_count": 28,
   "metadata": {},
   "outputs": [
    {
     "name": "stdout",
     "output_type": "stream",
     "text": [
      "[[12 15]\n",
      " [10  1]]\n",
      "Along first axis : \n",
      " [[12 15]\n",
      " [ 1 10]]\n"
     ]
    }
   ],
   "source": [
    "a = np.array([[12, 15], [10, 1]]) \n",
    "print(a)\n",
    "arr1 = np.sort(a, axis = -1)      \n",
    "print (\"Along first axis : \\n\", arr1)"
   ]
  },
  {
   "cell_type": "markdown",
   "metadata": {},
   "source": [
    "## 6.WAP using numpy to add elements of diagnols"
   ]
  },
  {
   "cell_type": "code",
   "execution_count": 36,
   "metadata": {},
   "outputs": [
    {
     "name": "stdout",
     "output_type": "stream",
     "text": [
      "matrix: \n",
      " [[1 2 3]\n",
      " [4 5 6]\n",
      " [7 8 9]]\n",
      "diagonal: [[1 5 9]]\n",
      "sum of diagonal:  15\n"
     ]
    }
   ],
   "source": [
    "A=np.matrix('[1,2,3;4,5,6;7,8,9]')\n",
    "print(\"matrix: \\n\",A)\n",
    "res=A.diagonal()\n",
    "print(\"diagonal:\",res)\n",
    "trace = np.trace(A) \n",
    "print(\"sum of diagonal: \",trace)"
   ]
  },
  {
   "cell_type": "markdown",
   "metadata": {},
   "source": [
    "## 7.WAP using numpy to add elements of diagnols and find which one is greater"
   ]
  },
  {
   "cell_type": "code",
   "execution_count": 39,
   "metadata": {},
   "outputs": [
    {
     "name": "stdout",
     "output_type": "stream",
     "text": [
      "matrix: \n",
      " [[1 2 3]\n",
      " [4 5 6]\n",
      " [7 8 9]]\n",
      "diagonal: [[1 5 9]]\n",
      "sum of diagonal:  15\n",
      "max in diagonal: 9\n"
     ]
    }
   ],
   "source": [
    "A=np.matrix('[1,2,3;4,5,6;7,8,9]')\n",
    "print(\"matrix: \\n\",A)\n",
    "res=A.diagonal()\n",
    "print(\"diagonal:\",res)\n",
    "trace = np.trace(A) #to sum the diagonals\n",
    "print(\"sum of diagonal: \",trace)\n",
    "print(\"max in diagonal:\",np.max(res))"
   ]
  }
 ],
 "metadata": {
  "kernelspec": {
   "display_name": "Python 3",
   "language": "python",
   "name": "python3"
  },
  "language_info": {
   "codemirror_mode": {
    "name": "ipython",
    "version": 3
   },
   "file_extension": ".py",
   "mimetype": "text/x-python",
   "name": "python",
   "nbconvert_exporter": "python",
   "pygments_lexer": "ipython3",
   "version": "3.7.6"
  }
 },
 "nbformat": 4,
 "nbformat_minor": 4
}
