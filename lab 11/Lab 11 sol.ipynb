{
 "cells": [
  {
   "cell_type": "code",
   "execution_count": 1,
   "metadata": {},
   "outputs": [],
   "source": [
    "import pandas as pd\n",
    "import numpy as np"
   ]
  },
  {
   "cell_type": "markdown",
   "metadata": {},
   "source": [
    "### 1.WAP using Pandas to add multiple series in a data frame"
   ]
  },
  {
   "cell_type": "code",
   "execution_count": 2,
   "metadata": {},
   "outputs": [
    {
     "data": {
      "text/html": [
       "<div>\n",
       "<style scoped>\n",
       "    .dataframe tbody tr th:only-of-type {\n",
       "        vertical-align: middle;\n",
       "    }\n",
       "\n",
       "    .dataframe tbody tr th {\n",
       "        vertical-align: top;\n",
       "    }\n",
       "\n",
       "    .dataframe thead th {\n",
       "        text-align: right;\n",
       "    }\n",
       "</style>\n",
       "<table border=\"1\" class=\"dataframe\">\n",
       "  <thead>\n",
       "    <tr style=\"text-align: right;\">\n",
       "      <th></th>\n",
       "      <th>Name</th>\n",
       "      <th>Score</th>\n",
       "      <th>Attempts</th>\n",
       "      <th>Qualify</th>\n",
       "    </tr>\n",
       "  </thead>\n",
       "  <tbody>\n",
       "    <tr>\n",
       "      <th>0</th>\n",
       "      <td>Ana</td>\n",
       "      <td>45</td>\n",
       "      <td>5</td>\n",
       "      <td>no</td>\n",
       "    </tr>\n",
       "    <tr>\n",
       "      <th>1</th>\n",
       "      <td>Priya</td>\n",
       "      <td>65</td>\n",
       "      <td>3</td>\n",
       "      <td>yes</td>\n",
       "    </tr>\n",
       "    <tr>\n",
       "      <th>2</th>\n",
       "      <td>Charu</td>\n",
       "      <td>78</td>\n",
       "      <td>4</td>\n",
       "      <td>yes</td>\n",
       "    </tr>\n",
       "    <tr>\n",
       "      <th>3</th>\n",
       "      <td>Suchi</td>\n",
       "      <td>12</td>\n",
       "      <td>4</td>\n",
       "      <td>no</td>\n",
       "    </tr>\n",
       "    <tr>\n",
       "      <th>4</th>\n",
       "      <td>Richa</td>\n",
       "      <td>4</td>\n",
       "      <td>2</td>\n",
       "      <td>no</td>\n",
       "    </tr>\n",
       "  </tbody>\n",
       "</table>\n",
       "</div>"
      ],
      "text/plain": [
       "    Name  Score  Attempts Qualify\n",
       "0    Ana     45         5      no\n",
       "1  Priya     65         3     yes\n",
       "2  Charu     78         4     yes\n",
       "3  Suchi     12         4      no\n",
       "4  Richa      4         2      no"
      ]
     },
     "execution_count": 2,
     "metadata": {},
     "output_type": "execute_result"
    }
   ],
   "source": [
    "a = pd.Series(['Ana', 'Priya', 'Charu', 'Suchi', 'Richa'])\n",
    "b = pd.Series([45,65,78,12,4])\n",
    "c = pd.Series([5,3,4,4,2])\n",
    "d= pd.Series(['no','yes','yes','no','no'])\n",
    "data = {\"Name\": a,\n",
    "        \"Score\": b,\n",
    "        \"Attempts\": c,\n",
    "        \"Qualify\":d}\n",
    "df = pd.DataFrame(data)\n",
    "df"
   ]
  },
  {
   "cell_type": "markdown",
   "metadata": {},
   "source": [
    "### 2.WAP using Pandas to display the default index and set a column as an Index in a given dataframe."
   ]
  },
  {
   "cell_type": "code",
   "execution_count": 7,
   "metadata": {},
   "outputs": [
    {
     "name": "stdout",
     "output_type": "stream",
     "text": [
      "Default Index:\n",
      "    Name  Score  Attempts Qualify\n",
      "0    Ana     45         5      no\n",
      "1  Priya     65         3     yes\n",
      "2  Charu     78         4     yes\n",
      "3  Suchi     12         4      no\n",
      "4  Richa      4         2      no\n",
      "\n",
      " Score as new Index:\n",
      "        Name  Attempts Qualify\n",
      "Score                         \n",
      "45       Ana         5      no\n",
      "65     Priya         3     yes\n",
      "78     Charu         4     yes\n",
      "12     Suchi         4      no\n",
      "4      Richa         2      no\n"
     ]
    }
   ],
   "source": [
    "print(\"Default Index:\")\n",
    "print(df)\n",
    "print(\"\\n Score as new Index:\")\n",
    "df1 = df.set_index('Score')\n",
    "print(df1)\n"
   ]
  },
  {
   "cell_type": "markdown",
   "metadata": {},
   "source": [
    "### 3.WAP using Pandas to add multiple disctionaries in a data frame"
   ]
  },
  {
   "cell_type": "code",
   "execution_count": null,
   "metadata": {},
   "outputs": [],
   "source": []
  },
  {
   "cell_type": "markdown",
   "metadata": {},
   "source": [
    "### 4.WAP using Pandas to create a data frame with columns Name, Marks1, Marks2, Marks3, Marks4, Marks5, Total. Total is sum of marks1 to marks5 in each row."
   ]
  },
  {
   "cell_type": "code",
   "execution_count": 46,
   "metadata": {},
   "outputs": [
    {
     "name": "stdout",
     "output_type": "stream",
     "text": [
      "    Name  Marks1  Marks2  Marks3  Marks4  Marks5  Total\n",
      "0    Ana      70      50      40      51      92    303\n",
      "1  Priya      85      10      12      82      83    272\n",
      "2  Charu      78      41      20      84      75    298\n",
      "3  Suchi      40      40      20      64      20    184\n",
      "4  Richa      40      10      12      12      20     94\n"
     ]
    }
   ],
   "source": [
    "df=pd.DataFrame({'Name':(['Ana', 'Priya', 'Charu', 'Suchi', 'Richa']),\n",
    "                  'Marks1':([70,85,78,40,40]),\n",
    "                  'Marks2':([50,10,41,40,10]),\n",
    "                  'Marks3':([40,12,20,20,12]),\n",
    "                  'Marks4':([51,82,84,64,12]),\n",
    "                  'Marks5':([92,83,75,20,20]),\n",
    "                 })\n",
    "df['Total']=df. sum(axis=1)\n",
    "print(df)"
   ]
  },
  {
   "cell_type": "markdown",
   "metadata": {},
   "source": [
    "### 5.WAP using Pandas with dataframe of Ex 4 to find the students who scored more then 50% marks in total"
   ]
  },
  {
   "cell_type": "code",
   "execution_count": 51,
   "metadata": {},
   "outputs": [
    {
     "name": "stdout",
     "output_type": "stream",
     "text": [
      "    Name  Marks1  Marks2  Marks3  Marks4  Marks5  Total  Percent\n",
      "0    Ana      70      50      40      51      92    303     60.6\n",
      "1  Priya      85      10      12      82      83    272     54.4\n",
      "2  Charu      78      41      20      84      75    298     59.6\n",
      "3  Suchi      40      40      20      64      20    184     36.8\n",
      "4  Richa      40      10      12      12      20     94     18.8\n",
      "\n",
      "\n",
      "students who scored more then 50%:\n",
      "\n",
      "    Name  Marks1  Marks2  Marks3  Marks4  Marks5  Total  Percent\n",
      "0    Ana      70      50      40      51      92    303     60.6\n",
      "1  Priya      85      10      12      82      83    272     54.4\n",
      "2  Charu      78      41      20      84      75    298     59.6\n"
     ]
    }
   ],
   "source": [
    "df['Percent'] = (df['Total'] / 500) * 100\n",
    "print(df)\n",
    "print(\"\\n\")\n",
    "print(\"students who scored more then 50%:\\n\")\n",
    "print(df[df.Percent>50])"
   ]
  },
  {
   "cell_type": "markdown",
   "metadata": {},
   "source": [
    "### 6.WAP using Pandas with dataframe of Ex 4 to find the students who scored more than 50% in total and marks1"
   ]
  },
  {
   "cell_type": "code",
   "execution_count": 55,
   "metadata": {},
   "outputs": [
    {
     "name": "stdout",
     "output_type": "stream",
     "text": [
      "students who scored more then 50% in total and marks1:\n",
      "\n"
     ]
    },
    {
     "data": {
      "text/html": [
       "<div>\n",
       "<style scoped>\n",
       "    .dataframe tbody tr th:only-of-type {\n",
       "        vertical-align: middle;\n",
       "    }\n",
       "\n",
       "    .dataframe tbody tr th {\n",
       "        vertical-align: top;\n",
       "    }\n",
       "\n",
       "    .dataframe thead th {\n",
       "        text-align: right;\n",
       "    }\n",
       "</style>\n",
       "<table border=\"1\" class=\"dataframe\">\n",
       "  <thead>\n",
       "    <tr style=\"text-align: right;\">\n",
       "      <th></th>\n",
       "      <th>Name</th>\n",
       "      <th>Marks1</th>\n",
       "      <th>Marks2</th>\n",
       "      <th>Marks3</th>\n",
       "      <th>Marks4</th>\n",
       "      <th>Marks5</th>\n",
       "      <th>Total</th>\n",
       "      <th>Percent</th>\n",
       "    </tr>\n",
       "  </thead>\n",
       "  <tbody>\n",
       "    <tr>\n",
       "      <th>0</th>\n",
       "      <td>Ana</td>\n",
       "      <td>70</td>\n",
       "      <td>50</td>\n",
       "      <td>40</td>\n",
       "      <td>51</td>\n",
       "      <td>92</td>\n",
       "      <td>303</td>\n",
       "      <td>60.6</td>\n",
       "    </tr>\n",
       "    <tr>\n",
       "      <th>1</th>\n",
       "      <td>Priya</td>\n",
       "      <td>85</td>\n",
       "      <td>10</td>\n",
       "      <td>12</td>\n",
       "      <td>82</td>\n",
       "      <td>83</td>\n",
       "      <td>272</td>\n",
       "      <td>54.4</td>\n",
       "    </tr>\n",
       "    <tr>\n",
       "      <th>2</th>\n",
       "      <td>Charu</td>\n",
       "      <td>78</td>\n",
       "      <td>41</td>\n",
       "      <td>20</td>\n",
       "      <td>84</td>\n",
       "      <td>75</td>\n",
       "      <td>298</td>\n",
       "      <td>59.6</td>\n",
       "    </tr>\n",
       "  </tbody>\n",
       "</table>\n",
       "</div>"
      ],
      "text/plain": [
       "    Name  Marks1  Marks2  Marks3  Marks4  Marks5  Total  Percent\n",
       "0    Ana      70      50      40      51      92    303     60.6\n",
       "1  Priya      85      10      12      82      83    272     54.4\n",
       "2  Charu      78      41      20      84      75    298     59.6"
      ]
     },
     "execution_count": 55,
     "metadata": {},
     "output_type": "execute_result"
    }
   ],
   "source": [
    "print(\"students who scored more then 50% in total and marks1:\\n\")\n",
    "(df[(df['Percent'] > 50) & (df['Marks1'] > 50)])"
   ]
  },
  {
   "cell_type": "markdown",
   "metadata": {},
   "source": [
    "### 7.WAP using Pandas with dataframe of Ex 4 to find the students who scored more than 50% in total but less than 40 in marks1"
   ]
  },
  {
   "cell_type": "code",
   "execution_count": 59,
   "metadata": {},
   "outputs": [
    {
     "name": "stdout",
     "output_type": "stream",
     "text": [
      "students who scored more then 50% in total  but less than 40 in marks1:\n",
      "\n"
     ]
    },
    {
     "data": {
      "text/html": [
       "<div>\n",
       "<style scoped>\n",
       "    .dataframe tbody tr th:only-of-type {\n",
       "        vertical-align: middle;\n",
       "    }\n",
       "\n",
       "    .dataframe tbody tr th {\n",
       "        vertical-align: top;\n",
       "    }\n",
       "\n",
       "    .dataframe thead th {\n",
       "        text-align: right;\n",
       "    }\n",
       "</style>\n",
       "<table border=\"1\" class=\"dataframe\">\n",
       "  <thead>\n",
       "    <tr style=\"text-align: right;\">\n",
       "      <th></th>\n",
       "      <th>Name</th>\n",
       "      <th>Marks1</th>\n",
       "      <th>Marks2</th>\n",
       "      <th>Marks3</th>\n",
       "      <th>Marks4</th>\n",
       "      <th>Marks5</th>\n",
       "      <th>Total</th>\n",
       "      <th>Percent</th>\n",
       "    </tr>\n",
       "  </thead>\n",
       "  <tbody>\n",
       "  </tbody>\n",
       "</table>\n",
       "</div>"
      ],
      "text/plain": [
       "Empty DataFrame\n",
       "Columns: [Name, Marks1, Marks2, Marks3, Marks4, Marks5, Total, Percent]\n",
       "Index: []"
      ]
     },
     "execution_count": 59,
     "metadata": {},
     "output_type": "execute_result"
    }
   ],
   "source": [
    "print(\"students who scored more then 50% in total  but less than 40 in marks1:\\n\")\n",
    "(df[(df['Percent'] > 50) & (df['Marks1'] < 40)])\n",
    "   "
   ]
  },
  {
   "cell_type": "markdown",
   "metadata": {},
   "source": [
    "### 8.WAP using Pandas with dataframe of Ex 4 to find the students who scored max marks in total and marks1"
   ]
  },
  {
   "cell_type": "code",
   "execution_count": 97,
   "metadata": {},
   "outputs": [
    {
     "name": "stdout",
     "output_type": "stream",
     "text": [
      "max of total: 303\n",
      "max of marks1: 85\n",
      "students who scored max marks in total and marks1:\n",
      "\n",
      "    Name  Marks1  Marks2  Marks3  Marks4  Marks5  Total  Percent\n",
      "0    Ana      70      50      40      51      92    303     60.6\n",
      "1  Priya      85      10      12      82      83    272     54.4\n"
     ]
    }
   ],
   "source": [
    "max=df['Total'].max()\n",
    "print(\"max of total:\",max)\n",
    "max1=df['Marks1'].max()\n",
    "print(\"max of marks1:\",max1)\n",
    "print(\"students who scored max marks in total and marks1:\\n\")\n",
    "print(df[(df.Total==max) | (df.Marks1==max1) ])"
   ]
  },
  {
   "cell_type": "markdown",
   "metadata": {},
   "source": [
    "### 9.WAP using Pandas with dataframe of Ex 4 to find the students who scored more than the mean of total"
   ]
  },
  {
   "cell_type": "code",
   "execution_count": 75,
   "metadata": {},
   "outputs": [
    {
     "name": "stdout",
     "output_type": "stream",
     "text": [
      "Mean of the Total= 230.2\n",
      "\n",
      "\n",
      "students who scored who scored more than the mean of total:\n",
      "\n",
      "    Name  Marks1  Marks2  Marks3  Marks4  Marks5  Total  Percent\n",
      "0    Ana      70      50      40      51      92    303     60.6\n",
      "1  Priya      85      10      12      82      83    272     54.4\n",
      "2  Charu      78      41      20      84      75    298     59.6\n"
     ]
    }
   ],
   "source": [
    "m=df['Total'].mean()\n",
    "print(\"Mean of the Total=\",m)\n",
    "print(\"\\n\")\n",
    "print(\"students who scored who scored more than the mean of total:\\n\")\n",
    "print(df[df.Total>m])"
   ]
  },
  {
   "cell_type": "markdown",
   "metadata": {},
   "source": [
    "### 10.WAP using Pandas with dataframe of Ex 4 to find the students who scored more than the mean of total and marks1"
   ]
  },
  {
   "cell_type": "code",
   "execution_count": 76,
   "metadata": {},
   "outputs": [
    {
     "name": "stdout",
     "output_type": "stream",
     "text": [
      "Mean of the Total= 230.2\n",
      "Mean of Mraks1= 62.6\n",
      "\n",
      "\n",
      "students who scored who scored more than the mean of total and marks1:\n",
      "\n"
     ]
    },
    {
     "data": {
      "text/html": [
       "<div>\n",
       "<style scoped>\n",
       "    .dataframe tbody tr th:only-of-type {\n",
       "        vertical-align: middle;\n",
       "    }\n",
       "\n",
       "    .dataframe tbody tr th {\n",
       "        vertical-align: top;\n",
       "    }\n",
       "\n",
       "    .dataframe thead th {\n",
       "        text-align: right;\n",
       "    }\n",
       "</style>\n",
       "<table border=\"1\" class=\"dataframe\">\n",
       "  <thead>\n",
       "    <tr style=\"text-align: right;\">\n",
       "      <th></th>\n",
       "      <th>Name</th>\n",
       "      <th>Marks1</th>\n",
       "      <th>Marks2</th>\n",
       "      <th>Marks3</th>\n",
       "      <th>Marks4</th>\n",
       "      <th>Marks5</th>\n",
       "      <th>Total</th>\n",
       "      <th>Percent</th>\n",
       "    </tr>\n",
       "  </thead>\n",
       "  <tbody>\n",
       "    <tr>\n",
       "      <th>0</th>\n",
       "      <td>Ana</td>\n",
       "      <td>70</td>\n",
       "      <td>50</td>\n",
       "      <td>40</td>\n",
       "      <td>51</td>\n",
       "      <td>92</td>\n",
       "      <td>303</td>\n",
       "      <td>60.6</td>\n",
       "    </tr>\n",
       "    <tr>\n",
       "      <th>1</th>\n",
       "      <td>Priya</td>\n",
       "      <td>85</td>\n",
       "      <td>10</td>\n",
       "      <td>12</td>\n",
       "      <td>82</td>\n",
       "      <td>83</td>\n",
       "      <td>272</td>\n",
       "      <td>54.4</td>\n",
       "    </tr>\n",
       "    <tr>\n",
       "      <th>2</th>\n",
       "      <td>Charu</td>\n",
       "      <td>78</td>\n",
       "      <td>41</td>\n",
       "      <td>20</td>\n",
       "      <td>84</td>\n",
       "      <td>75</td>\n",
       "      <td>298</td>\n",
       "      <td>59.6</td>\n",
       "    </tr>\n",
       "  </tbody>\n",
       "</table>\n",
       "</div>"
      ],
      "text/plain": [
       "    Name  Marks1  Marks2  Marks3  Marks4  Marks5  Total  Percent\n",
       "0    Ana      70      50      40      51      92    303     60.6\n",
       "1  Priya      85      10      12      82      83    272     54.4\n",
       "2  Charu      78      41      20      84      75    298     59.6"
      ]
     },
     "execution_count": 76,
     "metadata": {},
     "output_type": "execute_result"
    }
   ],
   "source": [
    "m=df['Total'].mean()\n",
    "print(\"Mean of the Total=\",m)\n",
    "m1=df['Marks1'].mean()\n",
    "print(\"Mean of Mraks1=\",m1)\n",
    "print(\"\\n\")\n",
    "\n",
    "print(\"students who scored who scored more than the mean of total and marks1:\\n\")\n",
    "\n",
    "(df[(df.Total>m) & (df.Marks1>m1)])"
   ]
  }
 ],
 "metadata": {
  "kernelspec": {
   "display_name": "Python 3",
   "language": "python",
   "name": "python3"
  },
  "language_info": {
   "codemirror_mode": {
    "name": "ipython",
    "version": 3
   },
   "file_extension": ".py",
   "mimetype": "text/x-python",
   "name": "python",
   "nbconvert_exporter": "python",
   "pygments_lexer": "ipython3",
   "version": "3.7.6"
  }
 },
 "nbformat": 4,
 "nbformat_minor": 4
}
